{
  "nbformat": 4,
  "nbformat_minor": 0,
  "metadata": {
    "colab": {
      "provenance": []
    },
    "kernelspec": {
      "name": "python3",
      "display_name": "Python 3"
    },
    "language_info": {
      "name": "python"
    }
  },
  "cells": [
    {
      "cell_type": "code",
      "execution_count": 2,
      "metadata": {
        "id": "m42kfaUN0NZs"
      },
      "outputs": [],
      "source": [
        "import pandas as pd\n",
        "df = pd.read_csv(\"super_Store.csv\" ,  encoding=\"ISO-8859-1\")\n"
      ]
    },
    {
      "cell_type": "code",
      "source": [
        "print(df.info())\n",
        "print(df.head())"
      ],
      "metadata": {
        "colab": {
          "base_uri": "https://localhost:8080/"
        },
        "id": "T2h97Pe213-s",
        "outputId": "6da5ba21-d32d-493c-8081-928b71521e4b"
      },
      "execution_count": null,
      "outputs": [
        {
          "output_type": "stream",
          "name": "stdout",
          "text": [
            "<class 'pandas.core.frame.DataFrame'>\n",
            "RangeIndex: 9994 entries, 0 to 9993\n",
            "Data columns (total 21 columns):\n",
            " #   Column         Non-Null Count  Dtype  \n",
            "---  ------         --------------  -----  \n",
            " 0   Row ID         9994 non-null   int64  \n",
            " 1   Order ID       9994 non-null   object \n",
            " 2   Order Date     9994 non-null   object \n",
            " 3   Ship Date      9994 non-null   object \n",
            " 4   Ship Mode      9994 non-null   object \n",
            " 5   Customer ID    9994 non-null   object \n",
            " 6   Customer Name  9994 non-null   object \n",
            " 7   Segment        9994 non-null   object \n",
            " 8   Country        9994 non-null   object \n",
            " 9   City           9994 non-null   object \n",
            " 10  State          9994 non-null   object \n",
            " 11  Postal Code    9994 non-null   int64  \n",
            " 12  Region         9994 non-null   object \n",
            " 13  Product ID     9994 non-null   object \n",
            " 14  Category       9994 non-null   object \n",
            " 15  Sub-Category   9994 non-null   object \n",
            " 16  Product Name   9994 non-null   object \n",
            " 17  Sales          9994 non-null   float64\n",
            " 18  Quantity       9994 non-null   int64  \n",
            " 19  Discount       9994 non-null   float64\n",
            " 20  Profit         9994 non-null   float64\n",
            "dtypes: float64(3), int64(3), object(15)\n",
            "memory usage: 1.6+ MB\n",
            "None\n",
            "   Row ID        Order ID  Order Date   Ship Date       Ship Mode Customer ID  \\\n",
            "0       1  CA-2016-152156   11/8/2016  11/11/2016    Second Class    CG-12520   \n",
            "1       2  CA-2016-152156   11/8/2016  11/11/2016    Second Class    CG-12520   \n",
            "2       3  CA-2016-138688   6/12/2016   6/16/2016    Second Class    DV-13045   \n",
            "3       4  US-2015-108966  10/11/2015  10/18/2015  Standard Class    SO-20335   \n",
            "4       5  US-2015-108966  10/11/2015  10/18/2015  Standard Class    SO-20335   \n",
            "\n",
            "     Customer Name    Segment        Country             City  ...  \\\n",
            "0      Claire Gute   Consumer  United States        Henderson  ...   \n",
            "1      Claire Gute   Consumer  United States        Henderson  ...   \n",
            "2  Darrin Van Huff  Corporate  United States      Los Angeles  ...   \n",
            "3   Sean O'Donnell   Consumer  United States  Fort Lauderdale  ...   \n",
            "4   Sean O'Donnell   Consumer  United States  Fort Lauderdale  ...   \n",
            "\n",
            "  Postal Code  Region       Product ID         Category Sub-Category  \\\n",
            "0       42420   South  FUR-BO-10001798        Furniture    Bookcases   \n",
            "1       42420   South  FUR-CH-10000454        Furniture       Chairs   \n",
            "2       90036    West  OFF-LA-10000240  Office Supplies       Labels   \n",
            "3       33311   South  FUR-TA-10000577        Furniture       Tables   \n",
            "4       33311   South  OFF-ST-10000760  Office Supplies      Storage   \n",
            "\n",
            "                                        Product Name     Sales  Quantity  \\\n",
            "0                  Bush Somerset Collection Bookcase  261.9600         2   \n",
            "1  Hon Deluxe Fabric Upholstered Stacking Chairs,...  731.9400         3   \n",
            "2  Self-Adhesive Address Labels for Typewriters b...   14.6200         2   \n",
            "3      Bretford CR4500 Series Slim Rectangular Table  957.5775         5   \n",
            "4                     Eldon Fold 'N Roll Cart System   22.3680         2   \n",
            "\n",
            "   Discount    Profit  \n",
            "0      0.00   41.9136  \n",
            "1      0.00  219.5820  \n",
            "2      0.00    6.8714  \n",
            "3      0.45 -383.0310  \n",
            "4      0.20    2.5164  \n",
            "\n",
            "[5 rows x 21 columns]\n"
          ]
        }
      ]
    },
    {
      "cell_type": "code",
      "source": [
        "# Convert 'Order Date' and 'Ship Date' to datetime format\n",
        "df[\"Order Date\"] = pd.to_datetime(df[\"Order Date\"], format=\"%m/%d/%Y\")\n",
        "df[\"Ship Date\"] = pd.to_datetime(df[\"Ship Date\"], format=\"%m/%d/%Y\")\n"
      ],
      "metadata": {
        "id": "I3GOIlTn1xDg"
      },
      "execution_count": 3,
      "outputs": []
    },
    {
      "cell_type": "code",
      "source": [
        "# Check for missing values\n",
        "print(df.isnull().sum())\n",
        "\n",
        "df.dropna(inplace=True) # Drop rows with missing values (if necessary)\n",
        "\n",
        "df.drop_duplicates(inplace=True) # Remove duplicate rows if any"
      ],
      "metadata": {
        "colab": {
          "base_uri": "https://localhost:8080/"
        },
        "id": "2KlUD7HR1_cZ",
        "outputId": "46821b1a-1af3-4c39-bed4-b4af72a756bd"
      },
      "execution_count": 4,
      "outputs": [
        {
          "output_type": "stream",
          "name": "stdout",
          "text": [
            "Row ID           0\n",
            "Order ID         0\n",
            "Order Date       0\n",
            "Ship Date        0\n",
            "Ship Mode        0\n",
            "Customer ID      0\n",
            "Customer Name    0\n",
            "Segment          0\n",
            "Country          0\n",
            "City             0\n",
            "State            0\n",
            "Postal Code      0\n",
            "Region           0\n",
            "Product ID       0\n",
            "Category         0\n",
            "Sub-Category     0\n",
            "Product Name     0\n",
            "Sales            0\n",
            "Quantity         0\n",
            "Discount         0\n",
            "Profit           0\n",
            "dtype: int64\n"
          ]
        }
      ]
    },
    {
      "cell_type": "markdown",
      "source": [
        "Step 3: Exploratory Data Analysis (EDA)"
      ],
      "metadata": {
        "id": "v54J3d_83Hlg"
      }
    },
    {
      "cell_type": "code",
      "source": [
        "total_sales = df[\"Sales\"].sum()\n",
        "total_profit = df[\"Profit\"].sum()\n",
        "total_quantity = df[\"Quantity\"].sum()\n",
        "\n",
        "print(f\"Total Sales: ${total_sales:,.2f}\")\n",
        "print(f\"Total Profit: ${total_profit:,.2f}\")\n",
        "print(f\"Total Quantity Sold: {total_quantity}\")\n"
      ],
      "metadata": {
        "colab": {
          "base_uri": "https://localhost:8080/"
        },
        "id": "gGJF3GXf2SZN",
        "outputId": "919f8b8b-3b7e-4c8c-c006-f924df13aeb2"
      },
      "execution_count": 5,
      "outputs": [
        {
          "output_type": "stream",
          "name": "stdout",
          "text": [
            "Total Sales: $2,297,200.86\n",
            "Total Profit: $286,397.02\n",
            "Total Quantity Sold: 37873\n"
          ]
        }
      ]
    },
    {
      "cell_type": "code",
      "source": [
        "top_products = df.groupby(\"Product Name\")[\"Profit\"].sum().nlargest(5)\n",
        "print(top_products)\n"
      ],
      "metadata": {
        "colab": {
          "base_uri": "https://localhost:8080/"
        },
        "id": "i7WgW8Cp3jVE",
        "outputId": "7876fb89-3001-4150-f529-0e4a24d66eff"
      },
      "execution_count": 6,
      "outputs": [
        {
          "output_type": "stream",
          "name": "stdout",
          "text": [
            "Product Name\n",
            "Canon imageCLASS 2200 Advanced Copier                                          25199.9280\n",
            "Fellowes PB500 Electric Punch Plastic Comb Binding Machine with Manual Bind     7753.0390\n",
            "Hewlett Packard LaserJet 3310 Copier                                            6983.8836\n",
            "Canon PC1060 Personal Laser Copier                                              4570.9347\n",
            "HP Designjet T520 Inkjet Large Format Printer - 24\" Color                       4094.9766\n",
            "Name: Profit, dtype: float64\n"
          ]
        }
      ]
    },
    {
      "cell_type": "code",
      "source": [
        "import matplotlib.pyplot as plt\n",
        "\n",
        "sales_trend = df.groupby(\"Order Date\")[\"Sales\"].sum() # Group by Order Date and sum Sales\n",
        "\n",
        "plt.figure(figsize=(12, 6))\n",
        "sales_trend.plot(color=\"yellow\", linewidth=2)\n",
        "plt.title(\"Sales Trend Over Time\")\n",
        "plt.xlabel(\"Order Date\")\n",
        "plt.ylabel(\"Total Sales\")\n",
        "plt.grid(True)\n",
        "plt.show()\n"
      ],
      "metadata": {
        "colab": {
          "base_uri": "https://localhost:8080/",
          "height": 495
        },
        "id": "KbDwpzsf30AA",
        "outputId": "ee9e2bb1-077c-4fcc-86e2-5f9be712647a"
      },
      "execution_count": 7,
      "outputs": [
        {
          "output_type": "display_data",
          "data": {
            "text/plain": [
              "<Figure size 1200x600 with 1 Axes>"
            ],
            "image/png": "[encoded data removed]"
          },
          "metadata": {}
        }
      ]
    },
    {
      "cell_type": "markdown",
      "source": [
        "Step 4: SQL Queries for Business Insights"
      ],
      "metadata": {
        "id": "NOZys3BE4fxa"
      }
    },
    {
      "cell_type": "code",
      "source": [
        "import sqlite3\n",
        "\n",
        "conn = sqlite3.connect(\":memory:\") # Create SQLite database in memory\n",
        "df.to_sql(\"sales_data\", conn, index=False, if_exists=\"replace\")\n"
      ],
      "metadata": {
        "colab": {
          "base_uri": "https://localhost:8080/"
        },
        "id": "-qah2gy34HAR",
        "outputId": "04433042-ff7b-49a5-d4da-05e9414cd764"
      },
      "execution_count": 8,
      "outputs": [
        {
          "output_type": "execute_result",
          "data": {
            "text/plain": [
              "9994"
            ]
          },
          "metadata": {},
          "execution_count": 8
        }
      ]
    },
    {
      "cell_type": "code",
      "source": [
        "query = \"\"\"\n",
        "SELECT State, SUM(Sales) AS Total_Sales\n",
        "FROM sales_data\n",
        "GROUP BY State\n",
        "ORDER BY Total_Sales DESC\n",
        "LIMIT 5;\n",
        "\"\"\"\n",
        "top_states = pd.read_sql(query, conn)\n",
        "print(top_states)\n"
      ],
      "metadata": {
        "colab": {
          "base_uri": "https://localhost:8080/"
        },
        "id": "mWmLOPOu4oks",
        "outputId": "bf2fc3ce-5918-42ca-cff9-4c606dd70142"
      },
      "execution_count": 9,
      "outputs": [
        {
          "output_type": "stream",
          "name": "stdout",
          "text": [
            "          State  Total_Sales\n",
            "0    California  457687.6315\n",
            "1      New York  310876.2710\n",
            "2         Texas  170188.0458\n",
            "3    Washington  138641.2700\n",
            "4  Pennsylvania  116511.9140\n"
          ]
        }
      ]
    },
    {
      "cell_type": "code",
      "source": [
        "query = \"\"\"\n",
        "SELECT strftime('%Y-%m', \"Order Date\") AS Month, SUM(Sales) AS Total_Sales\n",
        "FROM sales_data\n",
        "GROUP BY Month\n",
        "ORDER BY Month;\n",
        "\"\"\"\n",
        "monthly_sales = pd.read_sql(query, conn)\n",
        "print(monthly_sales)\n"
      ],
      "metadata": {
        "colab": {
          "base_uri": "https://localhost:8080/"
        },
        "id": "EyFkMpup5T8l",
        "outputId": "6c999574-c36c-44ed-8b38-3d352a4586d0"
      },
      "execution_count": 10,
      "outputs": [
        {
          "output_type": "stream",
          "name": "stdout",
          "text": [
            "      Month  Total_Sales\n",
            "0   2014-01   14236.8950\n",
            "1   2014-02    4519.8920\n",
            "2   2014-03   55691.0090\n",
            "3   2014-04   28295.3450\n",
            "4   2014-05   23648.2870\n",
            "5   2014-06   34595.1276\n",
            "6   2014-07   33946.3930\n",
            "7   2014-08   27909.4685\n",
            "8   2014-09   81777.3508\n",
            "9   2014-10   31453.3930\n",
            "10  2014-11   78628.7167\n",
            "11  2014-12   69545.6205\n",
            "12  2015-01   18174.0756\n",
            "13  2015-02   11951.4110\n",
            "14  2015-03   38726.2520\n",
            "15  2015-04   34195.2085\n",
            "16  2015-05   30131.6865\n",
            "17  2015-06   24797.2920\n",
            "18  2015-07   28765.3250\n",
            "19  2015-08   36898.3322\n",
            "20  2015-09   64595.9180\n",
            "21  2015-10   31404.9235\n",
            "22  2015-11   75972.5635\n",
            "23  2015-12   74919.5212\n",
            "24  2016-01   18542.4910\n",
            "25  2016-02   22978.8150\n",
            "26  2016-03   51715.8750\n",
            "27  2016-04   38750.0390\n",
            "28  2016-05   56987.7280\n",
            "29  2016-06   40344.5340\n",
            "30  2016-07   39261.9630\n",
            "31  2016-08   31115.3743\n",
            "32  2016-09   73410.0249\n",
            "33  2016-10   59687.7450\n",
            "34  2016-11   79411.9658\n",
            "35  2016-12   96999.0430\n",
            "36  2017-01   43971.3740\n",
            "37  2017-02   20301.1334\n",
            "38  2017-03   58872.3528\n",
            "39  2017-04   36521.5361\n",
            "40  2017-05   44261.1102\n",
            "41  2017-06   52981.7257\n",
            "42  2017-07   45264.4160\n",
            "43  2017-08   63120.8880\n",
            "44  2017-09   87866.6520\n",
            "45  2017-10   77776.9232\n",
            "46  2017-11  118447.8250\n",
            "47  2017-12   83829.3188\n"
          ]
        }
      ]
    },
    {
      "cell_type": "code",
      "source": [
        "df.to_csv(\"Cleaned_Sales_Data.csv\", index=False)\n"
      ],
      "metadata": {
        "id": "s7fMafuJ53Gz"
      },
      "execution_count": 11,
      "outputs": []
    }
  ]
}